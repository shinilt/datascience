{
 "cells": [
  {
   "cell_type": "markdown",
   "metadata": {},
   "source": [
    "# Assignment-2"
   ]
  },
  {
   "cell_type": "markdown",
   "metadata": {},
   "source": [
    "Task 1 - 1.1 - Write a Python Program to implement your own myreduce() function which works exactly like Python's built-in function reduce() "
   ]
  },
  {
   "cell_type": "code",
   "execution_count": 148,
   "metadata": {},
   "outputs": [
    {
     "name": "stdout",
     "output_type": "stream",
     "text": [
      "1tt2hfh3ddhh45610\n",
      "21\n",
      "720\n"
     ]
    }
   ],
   "source": [
    "#myReduce function\n",
    "def myreduce(funcName,Seq):\n",
    "    TempSeq=list(Seq)\n",
    "    i=0\n",
    "    while i< len(TempSeq):\n",
    "        if(i== len(TempSeq)-1):\n",
    "            return TempSeq[i]\n",
    "            break\n",
    "        else:\n",
    "            TempSeq[i+1]=funcName(TempSeq[i],TempSeq[i+1])\n",
    "        i=i+1\n",
    "    \n",
    "#Function1 to be used for the Reduce operation   \n",
    "def myFunc(a,b):\n",
    "    return a+b\n",
    "#Another Function to be used for the Reduce operation \n",
    "def myMultiplyFunc(a,b):\n",
    "    return a*b\n",
    "\n",
    "#initialize the input data\n",
    "myCharList=['1tt','2hfh','3dd','hh4','5','6','10']\n",
    "myNumList=[1,2,3,4,5,6]\n",
    "\n",
    "#execution\n",
    "print(myreduce(myFunc,myCharList))\n",
    "print(myreduce(myFunc,myNumList))\n",
    "print(myreduce(myMultiplyFunc,myNumList))\n"
   ]
  },
  {
   "cell_type": "markdown",
   "metadata": {},
   "source": [
    "Task 1 - 1.2 - Write a Python program to implement your own myfilter() function which works exactly like Python's built-in function filter() "
   ]
  },
  {
   "cell_type": "code",
   "execution_count": 149,
   "metadata": {},
   "outputs": [
    {
     "data": {
      "text/plain": [
       "[2, 4, 6]"
      ]
     },
     "execution_count": 149,
     "metadata": {},
     "output_type": "execute_result"
    }
   ],
   "source": [
    "#myFilter function\n",
    "def myfilter(funcName,Seq):\n",
    "    TempSeq=[]\n",
    "    i=0\n",
    "    while i< len(Seq):\n",
    "        if(myBoolFunc(Seq[i])):\n",
    "            TempSeq.append(Seq[i])\n",
    "        i=i+1\n",
    "    return TempSeq\n",
    "#my boolean return function        \n",
    "def EvenCheck(item):\n",
    "    if item%2 ==0:\n",
    "        return True\n",
    "    else:\n",
    "        return False\n",
    "# test execution   \n",
    "myfilter(EvenCheck,myNumList)"
   ]
  },
  {
   "cell_type": "markdown",
   "metadata": {},
   "source": [
    "Task 1 - 2 - Implement List comprehensions to produce the following lists. \n",
    " \n",
    "['A', 'C', 'A', 'D', 'G', 'I', ’L’, ‘ D’] \n",
    " \n",
    "['x', 'xx', 'xxx', 'xxxx', 'y', 'yy', 'yyy', 'yyyy', 'z', 'zz', 'zzz', 'zzzz'] \n",
    " \n",
    "['x', 'y', 'z', 'xx', 'yy', 'zz', 'xx', 'yy', 'zz', 'xxxx', 'yyyy', 'zzzz'] \n",
    " \n",
    "[[2], [3], [4], [3], [4], [5], [4], [5], [6]] \n",
    " \n",
    "[[2, 3, 4, 5], [3, 4, 5, 6], [4, 5, 6, 7], [5, 6, 7, 8]] \n",
    " \n",
    "[(1, 1), (2, 1), (3, 1), (1, 2), (2, 2), (3, 2), (1, 3), (2, 3), (3, 3)] "
   ]
  },
  {
   "cell_type": "code",
   "execution_count": 150,
   "metadata": {},
   "outputs": [
    {
     "name": "stdout",
     "output_type": "stream",
     "text": [
      "['A', 'C', 'A', 'D', 'G', 'I', 'L', 'D']\n",
      "['x', 'xx', 'xxx', 'xxxx', 'y', 'yy', 'yyy', 'yyyy', 'z', 'zz', 'zzz', 'zzzz']\n",
      "['x', 'y', 'z', 'xx', 'yy', 'zz', 'xx', 'yy', 'zz', 'xxxx', 'yyyy', 'zzzz']\n",
      "[['2'], ['3'], ['4'], ['3'], ['4'], ['5'], ['4'], ['5'], ['6']]\n",
      "[[2, 3, 4, 5], [3, 4, 5, 6], [4, 5, 6, 7], [5, 6, 7, 8]]\n",
      "[(1, 1), (2, 1), (3, 1), (1, 2), (2, 2), (3, 2), (1, 3), (2, 3), (3, 3)]\n"
     ]
    }
   ],
   "source": [
    "#List Comprehension from String\n",
    "charListFromString=[]\n",
    "for x in 'ACADGILD':\n",
    "    charListFromString.append(x)\n",
    "print(charListFromString)\n",
    "\n",
    "List2=[]\n",
    "for x in 'xyz':\n",
    "    for y in range(1,5):\n",
    "        List2.append(x*y)\n",
    "print(List2)\n",
    "\n",
    "List3=[]\n",
    "for x in 'xyz':\n",
    "    List3.append(x)\n",
    "for x in 'xyzxyz':\n",
    "    List3.append(x*2)\n",
    "for x in 'xyz':\n",
    "    List3.append(x*4)\n",
    "print(List3)\n",
    "\n",
    "List4=[]\n",
    "for x in range(2,5):\n",
    "    for y in range(0,3):\n",
    "        List4.append([str(x+y)])\n",
    "print(List4)\n",
    "\n",
    "List5=[]\n",
    "for x in range(2,6):\n",
    "    List5Temp=[]\n",
    "    for y in range(0,4):\n",
    "        List5Temp.append((x+y))\n",
    "    List5.append(List5Temp)\n",
    "print(List5)\n",
    "\n",
    "List6=[]\n",
    "for x in range(1,4):\n",
    "    for y in range(1,4):\n",
    "        newtuple=(y,x)\n",
    "        List6.append(newtuple)\n",
    "print(List6)"
   ]
  },
  {
   "cell_type": "markdown",
   "metadata": {},
   "source": [
    "Task 1- 3 - Implement a function longestWord() that takes a list of words and returns the longest one. "
   ]
  },
  {
   "cell_type": "code",
   "execution_count": 153,
   "metadata": {},
   "outputs": [
    {
     "name": "stdout",
     "output_type": "stream",
     "text": [
      "['one', 'two', 'three', 'four', 'longer', 'longeststringhere']\n"
     ]
    },
    {
     "data": {
      "text/plain": [
       "'longeststringhere'"
      ]
     },
     "execution_count": 153,
     "metadata": {},
     "output_type": "execute_result"
    }
   ],
   "source": [
    "def LongestWord(list):\n",
    "    Currentlength=0\n",
    "    LongestString=''\n",
    "    for x in list:\n",
    "        if (len(x)> Currentlength):\n",
    "            LongestString=x\n",
    "            Currentlength=len(x)\n",
    "    return LongestString\n",
    "#test data\n",
    "StringListtoTest=['one','two','three','four','longer','longeststringhere']\n",
    "#test execution\n",
    "print(StringListtoTest)\n",
    "LongestWord(StringListtoTest)    "
   ]
  },
  {
   "cell_type": "markdown",
   "metadata": {},
   "source": [
    "Task 2 - 1.1 - Write a Python Program(with class concepts) to find the area of the triangle using the below formula\n",
    "area = (s*(s-a)*(s-b)*(s-c)) ** 0.5 \n",
    " \n",
    "Function to take the length of the sides of triangle from user should be defined in the parent class and function to calculate the area should be defined in subclass. "
   ]
  },
  {
   "cell_type": "code",
   "execution_count": 30,
   "metadata": {},
   "outputs": [
    {
     "name": "stdout",
     "output_type": "stream",
     "text": [
      "enter length of side 1-5\n",
      "enter length of side 2-7\n",
      "enter length of side 3-9\n"
     ]
    },
    {
     "data": {
      "text/plain": [
       "17.41228014936585"
      ]
     },
     "execution_count": 30,
     "metadata": {},
     "output_type": "execute_result"
    }
   ],
   "source": [
    "class MyTriangle:\n",
    "  def __init__(self):\n",
    "    #initialize the triangle with sides by prompting user input\n",
    "    self.side1=float(input('enter length of side 1-'))\n",
    "    self.side2=float(input('enter length of side 2-'))\n",
    "    self.side3=float(input('enter length of side 3-'))\n",
    "\n",
    "  \n",
    "class ChildTriangle(MyTriangle):\n",
    "    def __init__(self):\n",
    "        super().__init__()\n",
    "        \n",
    "    def getArea(self):\n",
    "        s=(self.side1+self.side2+self.side3)/2\n",
    "        area = (s*(s-self.side1)*(s-self.side2)*(s-self.side3)) ** 0.5\n",
    "        return area\n",
    "# instantiate the triangle\n",
    "testChildTriangle = ChildTriangle()\n",
    "\n",
    "# get the area \n",
    "testChildTriangle.getArea()"
   ]
  },
  {
   "cell_type": "markdown",
   "metadata": {},
   "source": [
    "Task 2 - 1.2 - Write a function filter_long_words() that takes a list of words and an integer n and returns the list of words that are longer than n. "
   ]
  },
  {
   "cell_type": "code",
   "execution_count": 156,
   "metadata": {},
   "outputs": [
    {
     "name": "stdout",
     "output_type": "stream",
     "text": [
      "['one', 'two', 'three', 'four', 'longer', 'longest'] - and looking for strings longer than 4 chars\n"
     ]
    },
    {
     "data": {
      "text/plain": [
       "['three', 'longer', 'longest']"
      ]
     },
     "execution_count": 156,
     "metadata": {},
     "output_type": "execute_result"
    }
   ],
   "source": [
    "def filter_long_words(Seq,length):\n",
    "    TempSeq=[]\n",
    "    i=0\n",
    "    while i< len(Seq):\n",
    "        if(len(Seq[i]) > length):\n",
    "            TempSeq.append(Seq[i])\n",
    "        i=i+1\n",
    "    return TempSeq\n",
    "#test data\n",
    "StringListtoTest=['one','two','three','four','longer','longest']\n",
    "# test execution  \n",
    "print(StringListtoTest, '- and looking for strings longer than 4 chars')\n",
    "filter_long_words(StringListtoTest,4)"
   ]
  },
  {
   "cell_type": "markdown",
   "metadata": {},
   "source": [
    "Task 2 - 2.1 Write a Python program using function concept that maps  list of words into a list of integers representing the lengths of the corresponding words​. \n",
    " Hint: ​If a list [ ab,cde,erty] is passed on to the python function output should come as [2,3,4] \n",
    " Here 2,3 and 4 are the lengths of the words in the list. "
   ]
  },
  {
   "cell_type": "code",
   "execution_count": 158,
   "metadata": {},
   "outputs": [
    {
     "name": "stdout",
     "output_type": "stream",
     "text": [
      "['one', 'two', 'three', 'four', 'longer', 'longest']\n"
     ]
    },
    {
     "data": {
      "text/plain": [
       "[3, 3, 5, 4, 6, 7]"
      ]
     },
     "execution_count": 158,
     "metadata": {},
     "output_type": "execute_result"
    }
   ],
   "source": [
    "print(StringListtoTest)\n",
    "#function to retun the list of length of string list \n",
    "def lengthofStr(str):\n",
    "    lengthList=[]\n",
    "    for x in str:\n",
    "        lengthList.append(len(x))\n",
    "    return lengthList\n",
    "# use the mapping\n",
    "lengthofStr(StringListtoTest)"
   ]
  },
  {
   "cell_type": "markdown",
   "metadata": {},
   "source": [
    "Task 2 - 2.2 Write a Python function which takes a character (i.e. a string of length 1) and returns True if it is a vowel, False otherwise. "
   ]
  },
  {
   "cell_type": "code",
   "execution_count": 146,
   "metadata": {},
   "outputs": [
    {
     "name": "stdout",
     "output_type": "stream",
     "text": [
      "True\n",
      "True\n",
      "True\n",
      "True\n",
      "True\n",
      "False\n",
      "False\n",
      "False\n"
     ]
    }
   ],
   "source": [
    "#function to check vowels\n",
    "def CheckVowel(char):\n",
    "    if (char.lower() in 'aeiou'):\n",
    "        return True\n",
    "    else:\n",
    "        return False\n",
    "print(CheckVowel('a'))\n",
    "print(CheckVowel('E'))\n",
    "print(CheckVowel('i'))\n",
    "print(CheckVowel('o'))\n",
    "print(CheckVowel('u'))\n",
    "print(CheckVowel('g'))\n",
    "print(CheckVowel('z'))\n",
    "print(CheckVowel('m'))"
   ]
  },
  {
   "cell_type": "code",
   "execution_count": null,
   "metadata": {},
   "outputs": [],
   "source": []
  }
 ],
 "metadata": {
  "kernelspec": {
   "display_name": "Python 3",
   "language": "python",
   "name": "python3"
  },
  "language_info": {
   "codemirror_mode": {
    "name": "ipython",
    "version": 3
   },
   "file_extension": ".py",
   "mimetype": "text/x-python",
   "name": "python",
   "nbconvert_exporter": "python",
   "pygments_lexer": "ipython3",
   "version": "3.7.4"
  }
 },
 "nbformat": 4,
 "nbformat_minor": 2
}
